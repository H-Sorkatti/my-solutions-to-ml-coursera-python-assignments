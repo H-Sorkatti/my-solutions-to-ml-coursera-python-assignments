{
 "cells": [
  {
   "cell_type": "markdown",
   "source": [
    "# Programming Exercise 2: Logistic Regression\n",
    "\n",
    "## Introduction\n",
    "\n",
    "In this exercise, you will implement logistic regression and apply it to two different datasets. Before starting on the programming exercise, we strongly recommend watching the video lectures and completing the review questions for the associated topics.\n",
    "\n",
    "All the information you need for solving this assignment is in this notebook, and all the code you will be implementing will take place within this notebook. The assignment can be promptly submitted to the coursera grader directly from this notebook (code and instructions are included below).\n",
    "\n",
    "Before we begin with the exercises, we need to import all libraries required for this programming exercise. Throughout the course, we will be using [`numpy`](http://www.numpy.org/) for all arrays and matrix operations, and [`matplotlib`](https://matplotlib.org/) for plotting. In this assignment, we will also use [`scipy`](https://docs.scipy.org/doc/scipy/reference/), which contains scientific and numerical computation functions and tools. \n",
    "\n",
    "You can find instructions on how to install required libraries in the README file in the [github repository](https://github.com/dibgerge/ml-coursera-python-assignments)."
   ],
   "metadata": {}
  },
  {
   "cell_type": "code",
   "execution_count": 26,
   "source": [
    "# used for manipulating directory paths\r\n",
    "import os\r\n",
    "\r\n",
    "# Scientific and vector computation for python\r\n",
    "import numpy as np\r\n",
    "\r\n",
    "# Plotting library\r\n",
    "from matplotlib import pyplot\r\n",
    "\r\n",
    "# Optimization module in scipy\r\n",
    "from scipy import optimize\r\n",
    "\r\n",
    "# library written for this exercise providing additional functions for assignment submission, and others\r\n",
    "import utils\r\n",
    "\r\n",
    "# define the submission/grader object for this exercise\r\n",
    "grader = utils.Grader()\r\n",
    "\r\n",
    "# tells matplotlib to embed plots within the notebook\r\n",
    "%matplotlib inline"
   ],
   "outputs": [],
   "metadata": {}
  },
  {
   "cell_type": "markdown",
   "source": [
    "## Submission and Grading\n",
    "\n",
    "\n",
    "After completing each part of the assignment, be sure to submit your solutions to the grader. The following is a breakdown of how each part of this exercise is scored.\n",
    "\n",
    "\n",
    "| Section | Part                                 | Submission function   | Points \n",
    "| :-      |:-                                    | :-                    | :-:\n",
    "| 1       | [Sigmoid Function](#section1)                   | [`sigmoid`](#sigmoid) | 5      \n",
    "| 2       | [Compute cost for logistic regression](#section2) | [`costFunction`](#costFunction) | 30     \n",
    "| 3       | [Gradient for logistic regression](#section2)     | [`costFunction`](#costFunction) | 30     \n",
    "| 4       | [Predict Function](#section4)                     | [`predict`](#predict) | 5      \n",
    "| 5       | [Compute cost for regularized LR](#section5)      | [`costFunctionReg`](#costFunctionReg) | 15     \n",
    "| 6       | [Gradient for regularized LR](#section5)          | [`costFunctionReg`](#costFunctionReg) | 15     \n",
    "|         | Total Points                         | | 100    \n",
    "\n",
    "\n",
    "\n",
    "You are allowed to submit your solutions multiple times, and we will take only the highest score into consideration.\n",
    "\n",
    "<div class=\"alert alert-block alert-warning\">\n",
    "At the end of each section in this notebook, we have a cell which contains code for submitting the solutions thus far to the grader. Execute the cell to see your score up to the current section. For all your work to be submitted properly, you must execute those cells at least once. They must also be re-executed everytime the submitted function is updated.\n",
    "</div>\n"
   ],
   "metadata": {}
  },
  {
   "cell_type": "markdown",
   "source": [
    "## 1 Logistic Regression\n",
    "\n",
    "In this part of the exercise, you will build a logistic regression model to predict whether a student gets admitted into a university. Suppose that you are the administrator of a university department and\n",
    "you want to determine each applicant’s chance of admission based on their results on two exams. You have historical data from previous applicants that you can use as a training set for logistic regression. For each training example, you have the applicant’s scores on two exams and the admissions\n",
    "decision. Your task is to build a classification model that estimates an applicant’s probability of admission based the scores from those two exams. \n",
    "\n",
    "The following cell will load the data and corresponding labels:"
   ],
   "metadata": {}
  },
  {
   "cell_type": "code",
   "execution_count": 27,
   "source": [
    "# Load data\r\n",
    "# The first two columns contains the exam scores and the third column\r\n",
    "# contains the label.\r\n",
    "data = np.loadtxt(os.path.join('Data', 'ex2data1.txt'), delimiter=',')\r\n",
    "X, y = data[:, 0:2], data[:, 2]"
   ],
   "outputs": [],
   "metadata": {}
  },
  {
   "cell_type": "markdown",
   "source": [
    "### 1.1 Visualizing the data\n",
    "\n",
    "Before starting to implement any learning algorithm, it is always good to visualize the data if possible. We  display the data on a 2-dimensional plot by calling the function `plotData`. You will now complete the code in `plotData` so that it displays a figure where the axes are the two exam scores, and the positive and negative examples are shown with different markers.\n",
    "\n",
    "To help you get more familiar with plotting, we have left `plotData` empty so you can try to implement it yourself. However, this is an optional (ungraded) exercise. We also provide our implementation below so you can\n",
    "copy it or refer to it. If you choose to copy our example, make sure you learn\n",
    "what each of its commands is doing by consulting the `matplotlib` and `numpy` documentation.\n",
    "\n",
    "```python\n",
    "# Find Indices of Positive and Negative Examples\n",
    "pos = y == 1\n",
    "neg = y == 0\n",
    "\n",
    "# Plot Examples\n",
    "pyplot.plot(X[pos, 0], X[pos, 1], 'k*', lw=2, ms=10)\n",
    "pyplot.plot(X[neg, 0], X[neg, 1], 'ko', mfc='y', ms=8, mec='k', mew=1)\n",
    "```"
   ],
   "metadata": {}
  },
  {
   "cell_type": "code",
   "execution_count": 28,
   "source": [
    "def plotData(X, y):\r\n",
    "    \"\"\"\r\n",
    "    Plots the data points X and y into a new figure. Plots the data \r\n",
    "    points with * for the positive examples and o for the negative examples.\r\n",
    "    \r\n",
    "    Parameters\r\n",
    "    ----------\r\n",
    "    X : array_like\r\n",
    "        An Mx2 matrix representing the dataset. \r\n",
    "    \r\n",
    "    y : array_like\r\n",
    "        Label values for the dataset. A vector of size (M, ).\r\n",
    "    \r\n",
    "    Instructions\r\n",
    "    ------------\r\n",
    "    Plot the positive and negative examples on a 2D plot, using the\r\n",
    "    option 'k*' for the positive examples and 'ko' for the negative examples.    \r\n",
    "    \"\"\"\r\n",
    "    # Create New Figure\r\n",
    "    fig = pyplot.figure()\r\n",
    "\r\n",
    "    # ====================== YOUR CODE HERE ======================\r\n",
    "    \r\n",
    "    # Find Indices of Positive and Negative Examples\r\n",
    "    pos = y == 1\r\n",
    "    neg = y == 0\r\n",
    "\r\n",
    "    # Plot Examples\r\n",
    "    pyplot.plot(X[pos, 0], X[pos, 1], 'k*', lw=2, ms=10)\r\n",
    "    pyplot.plot(X[neg, 0], X[neg, 1], 'ko', mfc='y', ms=8, mec='k', mew=1)\r\n",
    "    \r\n",
    "    # ============================================================"
   ],
   "outputs": [],
   "metadata": {}
  },
  {
   "cell_type": "markdown",
   "source": [
    "Now, we call the implemented function to display the loaded data:"
   ],
   "metadata": {}
  },
  {
   "cell_type": "code",
   "execution_count": 29,
   "source": [
    "plotData(X, y)\r\n",
    "# add axes labels\r\n",
    "pyplot.xlabel('Exam 1 score')\r\n",
    "pyplot.ylabel('Exam 2 score')\r\n",
    "pyplot.legend(['Admitted', 'Not admitted'])\r\n",
    "pass"
   ],
   "outputs": [
    {
     "output_type": "display_data",
     "data": {
      "text/plain": [
       "<Figure size 432x288 with 1 Axes>"
      ],
      "image/png": "[encoded data removed]"
     },
     "metadata": {
      "needs_background": "light"
     }
    }
   ],
   "metadata": {}
  },
  {
   "cell_type": "markdown",
   "source": [
    "<a id=\"section1\"></a>\n",
    "### 1.2 Implementation\n",
    "\n",
    "#### 1.2.1 Warmup exercise: sigmoid function\n",
    "\n",
    "Before you start with the actual cost function, recall that the logistic regression hypothesis is defined as:\n",
    "\n",
    "$$ h_\\theta(x) = g(\\theta^T x)$$\n",
    "\n",
    "where function $g$ is the sigmoid function. The sigmoid function is defined as: \n",
    "\n",
    "$$g(z) = \\frac{1}{1+e^{-z}}$$.\n",
    "\n",
    "Your first step is to implement this function `sigmoid` so it can be\n",
    "called by the rest of your program. When you are finished, try testing a few\n",
    "values by calling `sigmoid(x)` in a new cell. For large positive values of `x`, the sigmoid should be close to 1, while for large negative values, the sigmoid should be close to 0. Evaluating `sigmoid(0)` should give you exactly 0.5. Your code should also work with vectors and matrices. **For a matrix, your function should perform the sigmoid function on every element.**\n",
    "<a id=\"sigmoid\"></a>"
   ],
   "metadata": {}
  },
  {
   "cell_type": "code",
   "execution_count": 30,
   "source": [
    "def sigmoid(z):\r\n",
    "    \"\"\"\r\n",
    "    Compute sigmoid function given the input z.\r\n",
    "    \r\n",
    "    Parameters\r\n",
    "    ----------\r\n",
    "    z : array_like\r\n",
    "        The input to the sigmoid function. This can be a 1-D vector \r\n",
    "        or a 2-D matrix. \r\n",
    "    \r\n",
    "    Returns\r\n",
    "    -------\r\n",
    "    g : array_like\r\n",
    "        The computed sigmoid function. g has the same shape as z, since\r\n",
    "        the sigmoid is computed element-wise on z.\r\n",
    "        \r\n",
    "    Instructions\r\n",
    "    ------------\r\n",
    "    Compute the sigmoid of each value of z (z can be a matrix, vector or scalar).\r\n",
    "    \"\"\"\r\n",
    "    # convert input to a numpy array\r\n",
    "    z = np.array(z)\r\n",
    "    \r\n",
    "    # You need to return the following variables correctly \r\n",
    "    g = np.zeros(z.shape)\r\n",
    "\r\n",
    "    # ====================== YOUR CODE HERE ======================\r\n",
    "    \r\n",
    "    sig = lambda x: 1 / (1 + np.exp(-x))\r\n",
    "\r\n",
    "    g = np.vectorize(sig)(z)\r\n",
    "    \r\n",
    "\r\n",
    "    # =============================================================\r\n",
    "    return g"
   ],
   "outputs": [],
   "metadata": {}
  },
  {
   "cell_type": "code",
   "execution_count": 31,
   "source": [
    "print(sigmoid(0.5))"
   ],
   "outputs": [
    {
     "output_type": "stream",
     "name": "stdout",
     "text": [
      "0.6224593312018546\n"
     ]
    }
   ],
   "metadata": {}
  },
  {
   "cell_type": "markdown",
   "source": [
    "The following cell evaluates the sigmoid function at `z=0`. You should get a value of 0.5. You can also try different values for `z` to experiment with the sigmoid function."
   ],
   "metadata": {}
  },
  {
   "cell_type": "code",
   "execution_count": 32,
   "source": [
    "# Test the implementation of sigmoid function here\r\n",
    "z = 0\r\n",
    "g = sigmoid(z)\r\n",
    "\r\n",
    "print('g(', z, ') = ', g)"
   ],
   "outputs": [
    {
     "output_type": "stream",
     "name": "stdout",
     "text": [
      "g( 0 ) =  0.5\n"
     ]
    }
   ],
   "metadata": {}
  },
  {
   "cell_type": "markdown",
   "source": [
    "After completing a part of the exercise, you can submit your solutions for grading by first adding the function you modified to the submission object, and then sending your function to Coursera for grading. \n",
    "\n",
    "The submission script will prompt you for your login e-mail and submission token. You can obtain a submission token from the web page for the assignment. You are allowed to submit your solutions multiple times, and we will take only the highest score into consideration.\n",
    "\n",
    "Execute the following cell to grade your solution to the first part of this exercise.\n",
    "\n",
    "*You should now submit your solutions.*"
   ],
   "metadata": {}
  },
  {
   "cell_type": "code",
   "execution_count": 33,
   "source": [
    "# appends the implemented function in part 1 to the grader object\r\n",
    "grader[1] = sigmoid\r\n",
    "\r\n",
    "# send the added functions to coursera grader for getting a grade on this part\r\n",
    "grader.grade()"
   ],
   "outputs": [
    {
     "output_type": "stream",
     "name": "stdout",
     "text": [
      "\n",
      "Submitting Solutions | Programming Exercise logistic-regression\n",
      "\n",
      "                                  Part Name |     Score | Feedback\n",
      "                                  --------- |     ----- | --------\n",
      "                           Sigmoid Function |   5 /   5 | Nice work!\n",
      "                   Logistic Regression Cost |   0 /  30 | Your answer is incorrect.\n",
      "               Logistic Regression Gradient |   0 /  30 | Your answer is incorrect.\n",
      "                                    Predict |   0 /   5 | Your answer is incorrect.\n",
      "       Regularized Logistic Regression Cost |   0 /  15 | Your answer is incorrect.\n",
      "   Regularized Logistic Regression Gradient |   0 /  15 | Your answer is incorrect.\n",
      "                                  --------------------------------\n",
      "                                            |   5 / 100 |  \n",
      "\n"
     ]
    }
   ],
   "metadata": {}
  },
  {
   "cell_type": "markdown",
   "source": [
    "<a id=\"section2\"></a>\n",
    "#### 1.2.2 Cost function and gradient\n",
    "\n",
    "Now you will implement the cost function and gradient for logistic regression. Before proceeding we add the intercept term to X. "
   ],
   "metadata": {}
  },
  {
   "cell_type": "code",
   "execution_count": 34,
   "source": [
    "# Setup the data matrix appropriately, and add ones for the intercept term\r\n",
    "m, n = X.shape\r\n",
    "\r\n",
    "# Add intercept term to X\r\n",
    "X = np.concatenate([np.ones((m, 1)), X], axis=1)"
   ],
   "outputs": [],
   "metadata": {}
  },
  {
   "cell_type": "markdown",
   "source": [
    "Now, complete the code for the function `costFunction` to return the cost and gradient. Recall that the cost function in logistic regression is\n",
    "\n",
    "$$ J(\\theta) = \\frac{1}{m} \\sum_{i=1}^{m} \\left[ -y^{(i)} \\log\\left(h_\\theta\\left( x^{(i)} \\right) \\right) - \\left( 1 - y^{(i)}\\right) \\log \\left( 1 - h_\\theta\\left( x^{(i)} \\right) \\right) \\right]$$\n",
    "\n",
    "and the gradient of the cost is a vector of the same length as $\\theta$ where the $j^{th}$\n",
    "element (for $j = 0, 1, \\cdots , n$) is defined as follows:\n",
    "\n",
    "$$ \\frac{\\partial J(\\theta)}{\\partial \\theta_j} = \\frac{1}{m} \\sum_{i=1}^m \\left( h_\\theta \\left( x^{(i)} \\right) - y^{(i)} \\right) x_j^{(i)} $$\n",
    "\n",
    "Note that while this gradient looks identical to the linear regression gradient, the formula is actually different because linear and logistic regression have different definitions of $h_\\theta(x)$.\n",
    "<a id=\"costFunction\"></a>"
   ],
   "metadata": {}
  },
  {
   "cell_type": "code",
   "execution_count": 35,
   "source": [
    "def costFunction(theta, X, y):\r\n",
    "    \"\"\"\r\n",
    "    Compute cost and gradient for logistic regression. \r\n",
    "    \r\n",
    "    Parameters\r\n",
    "    ----------\r\n",
    "    theta : array_like\r\n",
    "        The parameters for logistic regression. This a vector\r\n",
    "        of shape (n+1, ).\r\n",
    "    \r\n",
    "    X : array_like\r\n",
    "        The input dataset of shape (m x n+1) where m is the total number\r\n",
    "        of data points and n is the number of features. We assume the \r\n",
    "        intercept has already been added to the input.\r\n",
    "    \r\n",
    "    y : arra_like\r\n",
    "        Labels for the input. This is a vector of shape (m, ).\r\n",
    "    \r\n",
    "    Returns\r\n",
    "    -------\r\n",
    "    J : float\r\n",
    "        The computed value for the cost function. \r\n",
    "    \r\n",
    "    grad : array_like\r\n",
    "        A vector of shape (n+1, ) which is the gradient of the cost\r\n",
    "        function with respect to theta, at the current values of theta.\r\n",
    "        \r\n",
    "    Instructions\r\n",
    "    ------------\r\n",
    "    Compute the cost of a particular choice of theta. You should set J to \r\n",
    "    the cost. Compute the partial derivatives and set grad to the partial\r\n",
    "    derivatives of the cost w.r.t. each parameter in theta.\r\n",
    "    \"\"\"\r\n",
    "    # Initialize some useful values\r\n",
    "    m = y.size  # number of training examples\r\n",
    "\r\n",
    "    # You need to return the following variables correctly \r\n",
    "    J = 0\r\n",
    "    grad = np.zeros(theta.shape)\r\n",
    "\r\n",
    "    # ====================== YOUR CODE HERE ======================\r\n",
    "    \r\n",
    "    J = (-1/m) * ( y.T @ np.log(sigmoid(X @ theta)) + (1 - y) @ np.log(1 - sigmoid(X @ theta)) )\r\n",
    "    \r\n",
    "    grad = (1/m) * ( (sigmoid(X@theta) - y) @ X )\r\n",
    "    \r\n",
    "    \r\n",
    "    # =============================================================\r\n",
    "    return J, grad"
   ],
   "outputs": [],
   "metadata": {}
  },
  {
   "cell_type": "markdown",
   "source": [
    "Once you are done call your `costFunction` using two test cases for  $\\theta$ by executing the next cell."
   ],
   "metadata": {}
  },
  {
   "cell_type": "code",
   "execution_count": 36,
   "source": [
    "# Initialize fitting parameters\r\n",
    "initial_theta = np.zeros(n+1)\r\n",
    "\r\n",
    "cost, grad = costFunction(initial_theta, X, y)\r\n",
    "\r\n",
    "print('Cost at initial theta (zeros): {:.3f}'.format(cost))\r\n",
    "print('Expected cost (approx): 0.693\\n')\r\n",
    "\r\n",
    "print('Gradient at initial theta (zeros):')\r\n",
    "print('\\t[{:.4f}, {:.4f}, {:.4f}]'.format(*grad))\r\n",
    "print('Expected gradients (approx):\\n\\t[-0.1000, -12.0092, -11.2628]\\n')\r\n",
    "\r\n",
    "# Compute and display cost and gradient with non-zero theta\r\n",
    "test_theta = np.array([-24, 0.2, 0.2])\r\n",
    "cost, grad = costFunction(test_theta, X, y)\r\n",
    "\r\n",
    "print('Cost at test theta: {:.3f}'.format(cost))\r\n",
    "print('Expected cost (approx): 0.218\\n')\r\n",
    "\r\n",
    "print('Gradient at test theta:')\r\n",
    "print('\\t[{:.3f}, {:.3f}, {:.3f}]'.format(*grad))\r\n",
    "print('Expected gradients (approx):\\n\\t[0.043, 2.566, 2.647]')"
   ],
   "outputs": [
    {
     "output_type": "stream",
     "name": "stdout",
     "text": [
      "Cost at initial theta (zeros): 0.693\n",
      "Expected cost (approx): 0.693\n",
      "\n",
      "Gradient at initial theta (zeros):\n",
      "\t[-0.1000, -12.0092, -11.2628]\n",
      "Expected gradients (approx):\n",
      "\t[-0.1000, -12.0092, -11.2628]\n",
      "\n",
      "Cost at test theta: 0.218\n",
      "Expected cost (approx): 0.218\n",
      "\n",
      "Gradient at test theta:\n",
      "\t[0.043, 2.566, 2.647]\n",
      "Expected gradients (approx):\n",
      "\t[0.043, 2.566, 2.647]\n"
     ]
    }
   ],
   "metadata": {}
  },
  {
   "cell_type": "markdown",
   "source": [
    "*You should now submit your solutions.*"
   ],
   "metadata": {}
  },
  {
   "cell_type": "code",
   "execution_count": 37,
   "source": [
    "grader[2] = costFunction\r\n",
    "grader[3] = costFunction\r\n",
    "grader.grade()"
   ],
   "outputs": [
    {
     "output_type": "stream",
     "name": "stdout",
     "text": [
      "\n",
      "Submitting Solutions | Programming Exercise logistic-regression\n",
      "\n",
      "                                  Part Name |     Score | Feedback\n",
      "                                  --------- |     ----- | --------\n",
      "                           Sigmoid Function |   5 /   5 | Nice work!\n",
      "                   Logistic Regression Cost |  30 /  30 | Nice work!\n",
      "               Logistic Regression Gradient |  30 /  30 | Nice work!\n",
      "                                    Predict |   0 /   5 | Your answer is incorrect.\n",
      "       Regularized Logistic Regression Cost |   0 /  15 | Your answer is incorrect.\n",
      "   Regularized Logistic Regression Gradient |   0 /  15 | Your answer is incorrect.\n",
      "                                  --------------------------------\n",
      "                                            |  65 / 100 |  \n",
      "\n"
     ]
    }
   ],
   "metadata": {}
  },
  {
   "cell_type": "code",
   "execution_count": 38,
   "source": [
    "# set options for optimize.minimize\r\n",
    "options= {'maxiter': 400}\r\n",
    "\r\n",
    "# see documention for scipy's optimize.minimize  for description about\r\n",
    "# the different parameters\r\n",
    "# The function returns an object `OptimizeResult`\r\n",
    "# We use truncated Newton algorithm for optimization which is \r\n",
    "# equivalent to MATLAB's fminunc\r\n",
    "# See https://stackoverflow.com/questions/18801002/fminunc-alternate-in-numpy\r\n",
    "res = optimize.minimize(costFunction,\r\n",
    "                        initial_theta,\r\n",
    "                        (X, y),\r\n",
    "                        jac=True,\r\n",
    "                        method='TNC',\r\n",
    "                        options=options)\r\n",
    "\r\n",
    "# the fun property of `OptimizeResult` object returns\r\n",
    "# the value of costFunction at optimized theta\r\n",
    "cost = res.fun\r\n",
    "\r\n",
    "# the optimized theta is in the x property\r\n",
    "theta = res.x\r\n",
    "\r\n",
    "# Print theta to screen\r\n",
    "print('Cost at theta found by optimize.minimize: {:.3f}'.format(cost))\r\n",
    "print('Expected cost (approx): 0.203\\n');\r\n",
    "\r\n",
    "print('theta:')\r\n",
    "print('\\t[{:.3f}, {:.3f}, {:.3f}]'.format(*theta))\r\n",
    "print('Expected theta (approx):\\n\\t[-25.161, 0.206, 0.201]')"
   ],
   "outputs": [
    {
     "output_type": "stream",
     "name": "stdout",
     "text": [
      "Cost at theta found by optimize.minimize: 0.203\n",
      "Expected cost (approx): 0.203\n",
      "\n",
      "theta:\n",
      "\t[-25.161, 0.206, 0.201]\n",
      "Expected theta (approx):\n",
      "\t[-25.161, 0.206, 0.201]\n"
     ]
    }
   ],
   "metadata": {}
  },
  {
   "cell_type": "markdown",
   "source": [
    "Once `optimize.minimize` completes, we want to use the final value for $\\theta$ to visualize the decision boundary on the training data as shown in the figure below. \n",
    "\n",
    "![](Figures/decision_boundary1.png)\n",
    "\n",
    "To do so, we have written a function `plotDecisionBoundary` for plotting the decision boundary on top of training data. You do not need to write any code for plotting the decision boundary, but we also encourage you to look at the code in `plotDecisionBoundary` to see how to plot such a boundary using the $\\theta$ values. You can find this function in the `utils.py` file which comes with this assignment."
   ],
   "metadata": {}
  },
  {
   "cell_type": "code",
   "execution_count": 39,
   "source": [
    "# Plot Boundary\r\n",
    "utils.plotDecisionBoundary(plotData, theta, X, y)"
   ],
   "outputs": [
    {
     "output_type": "display_data",
     "data": {
      "text/plain": [
       "<Figure size 432x288 with 1 Axes>"
      ],
      "image/png": "[encoded data removed]"
     },
     "metadata": {
      "needs_background": "light"
     }
    }
   ],
   "metadata": {}
  },
  {
   "cell_type": "markdown",
   "source": [
    "<a id=\"section4\"></a>\n",
    "#### 1.2.4 Evaluating logistic regression\n",
    "\n",
    "After learning the parameters, you can use the model to predict whether a particular student will be admitted. For a student with an Exam 1 score of 45 and an Exam 2 score of 85, you should expect to see an admission\n",
    "probability of 0.776. Another way to evaluate the quality of the parameters we have found is to see how well the learned model predicts on our training set. In this part, your task is to complete the code in function `predict`. The predict function will produce “1” or “0” predictions given a dataset and a learned parameter vector $\\theta$. \n",
    "<a id=\"predict\"></a>"
   ],
   "metadata": {}
  },
  {
   "cell_type": "code",
   "execution_count": 40,
   "source": [
    "def predict(theta, X):\r\n",
    "    \"\"\"\r\n",
    "    Predict whether the label is 0 or 1 using learned logistic regression.\r\n",
    "    Computes the predictions for X using a threshold at 0.5 \r\n",
    "    (i.e., if sigmoid(theta.T*x) >= 0.5, predict 1)\r\n",
    "    \r\n",
    "    Parameters\r\n",
    "    ----------\r\n",
    "    theta : array_like\r\n",
    "        Parameters for logistic regression. A vecotor of shape (n+1, ).\r\n",
    "    \r\n",
    "    X : array_like\r\n",
    "        The data to use for computing predictions. The rows is the number \r\n",
    "        of points to compute predictions, and columns is the number of\r\n",
    "        features.\r\n",
    "\r\n",
    "    Returns\r\n",
    "    -------\r\n",
    "    p : array_like\r\n",
    "        Predictions and 0 or 1 for each row in X. \r\n",
    "    \r\n",
    "    Instructions\r\n",
    "    ------------\r\n",
    "    Complete the following code to make predictions using your learned \r\n",
    "    logistic regression parameters.You should set p to a vector of 0's and 1's    \r\n",
    "    \"\"\"\r\n",
    "    m = X.shape[0] # Number of training examples\r\n",
    "\r\n",
    "    # You need to return the following variables correctly\r\n",
    "    p = np.zeros(m)\r\n",
    "\r\n",
    "    # ====================== YOUR CODE HERE ======================\r\n",
    "\r\n",
    "    p = sigmoid(X@theta)\r\n",
    "    p = np.vectorize(lambda x: 1 if x >= 0.5 else 0)(p)\r\n",
    "    # or\r\n",
    "    # p = np.vectorize(int)((p >= 0.5 ))\r\n",
    "    \r\n",
    "    # ============================================================\r\n",
    "    return p"
   ],
   "outputs": [],
   "metadata": {}
  },
  {
   "cell_type": "markdown",
   "source": [
    "After you have completed the code in `predict`, we proceed to report the training accuracy of your classifier by computing the percentage of examples it got correct."
   ],
   "metadata": {}
  },
  {
   "cell_type": "code",
   "execution_count": 41,
   "source": [
    "#  Predict probability for a student with score 45 on exam 1 \r\n",
    "#  and score 85 on exam 2 \r\n",
    "prob = sigmoid(np.dot([1, 45, 85], theta))\r\n",
    "print('For a student with scores 45 and 85,'\r\n",
    "      'we predict an admission probability of {:.3f}'.format(prob))\r\n",
    "print('Expected value: 0.775 +/- 0.002\\n')\r\n",
    "\r\n",
    "# Compute accuracy on our training set\r\n",
    "p = predict(theta, X)\r\n",
    "print('Train Accuracy: {:.2f} %'.format(np.mean(p == y) * 100))\r\n",
    "print('Expected accuracy (approx): 89.00 %')"
   ],
   "outputs": [
    {
     "output_type": "stream",
     "name": "stdout",
     "text": [
      "For a student with scores 45 and 85,we predict an admission probability of 0.776\n",
      "Expected value: 0.775 +/- 0.002\n",
      "\n",
      "Train Accuracy: 89.00 %\n",
      "Expected accuracy (approx): 89.00 %\n"
     ]
    }
   ],
   "metadata": {}
  },
  {
   "cell_type": "markdown",
   "source": [
    "*You should now submit your solutions.*"
   ],
   "metadata": {}
  },
  {
   "cell_type": "code",
   "execution_count": 42,
   "source": [
    "grader[4] = predict\r\n",
    "grader.grade()"
   ],
   "outputs": [
    {
     "output_type": "stream",
     "name": "stdout",
     "text": [
      "\n",
      "Submitting Solutions | Programming Exercise logistic-regression\n",
      "\n",
      "                                  Part Name |     Score | Feedback\n",
      "                                  --------- |     ----- | --------\n",
      "                           Sigmoid Function |   5 /   5 | Nice work!\n",
      "                   Logistic Regression Cost |  30 /  30 | Nice work!\n",
      "               Logistic Regression Gradient |  30 /  30 | Nice work!\n",
      "                                    Predict |   5 /   5 | Nice work!\n",
      "       Regularized Logistic Regression Cost |   0 /  15 | Your answer is incorrect.\n",
      "   Regularized Logistic Regression Gradient |   0 /  15 | Your answer is incorrect.\n",
      "                                  --------------------------------\n",
      "                                            |  70 / 100 |  \n",
      "\n"
     ]
    }
   ],
   "metadata": {}
  },
  {
   "cell_type": "markdown",
   "source": [
    "## 2 Regularized logistic regression\n",
    "\n",
    "In this part of the exercise, you will implement regularized logistic regression to predict whether microchips from a fabrication plant passes quality assurance (QA). During QA, each microchip goes through various tests to ensure it is functioning correctly.\n",
    "Suppose you are the product manager of the factory and you have the test results for some microchips on two different tests. From these two tests, you would like to determine whether the microchips should be accepted or rejected. To help you make the decision, you have a dataset of test results on past microchips, from which you can build a logistic regression model.\n",
    "\n",
    "First, we load the data from a CSV file:"
   ],
   "metadata": {}
  },
  {
   "cell_type": "code",
   "execution_count": 43,
   "source": [
    "# Load Data\r\n",
    "# The first two columns contains the X values and the third column\r\n",
    "# contains the label (y).\r\n",
    "data = np.loadtxt(os.path.join('Data', 'ex2data2.txt'), delimiter=',')\r\n",
    "X = data[:, :2]\r\n",
    "y = data[:, 2]"
   ],
   "outputs": [],
   "metadata": {}
  },
  {
   "cell_type": "markdown",
   "source": [
    "### 2.1 Visualize the data\n",
    "\n",
    "Similar to the previous parts of this exercise, `plotData` is used to generate a figure, where the axes are the two test scores, and the positive (y = 1, accepted) and negative (y = 0, rejected) examples are shown with\n",
    "different markers."
   ],
   "metadata": {}
  },
  {
   "cell_type": "code",
   "execution_count": 44,
   "source": [
    "plotData(X, y)\r\n",
    "# Labels and Legend\r\n",
    "pyplot.xlabel('Microchip Test 1')\r\n",
    "pyplot.ylabel('Microchip Test 2')\r\n",
    "\r\n",
    "# Specified in plot order\r\n",
    "pyplot.legend(['y = 1', 'y = 0'], loc='upper right')\r\n",
    "pass"
   ],
   "outputs": [
    {
     "output_type": "display_data",
     "data": {
      "text/plain": [
       "<Figure size 432x288 with 1 Axes>"
      ],
      "image/png": "[encoded data removed]"
     },
     "metadata": {
      "needs_background": "light"
     }
    }
   ],
   "metadata": {}
  },
  {
   "cell_type": "markdown",
   "source": [
    "The above figure shows that our dataset cannot be separated into positive and negative examples by a straight-line through the plot. Therefore, a straight-forward application of logistic regression will not perform well on this dataset since logistic regression will only be able to find a linear decision boundary.\n",
    "\n",
    "### 2.2 Feature mapping\n",
    "\n",
    "One way to fit the data better is to create more features from each data point. In the function `mapFeature` defined in the file `utils.py`, we will map the features into all polynomial terms of $x_1$ and $x_2$ up to the sixth power.\n",
    "\n",
    "$$ \\text{mapFeature}(x) = \\begin{bmatrix} 1 & x_1 & x_2 & x_1^2 & x_1 x_2 & x_2^2 & x_1^3 & \\dots & x_1 x_2^5 & x_2^6 \\end{bmatrix}^T $$\n",
    "\n",
    "As a result of this mapping, our vector of two features (the scores on two QA tests) has been transformed into a 28-dimensional vector. A logistic regression classifier trained on this higher-dimension feature vector will have a more complex decision boundary and will appear nonlinear when drawn in our 2-dimensional plot.\n",
    "While the feature mapping allows us to build a more expressive classifier, it also more susceptible to overfitting. In the next parts of the exercise, you will implement regularized logistic regression to fit the data and also see for yourself how regularization can help combat the overfitting problem.\n"
   ],
   "metadata": {}
  },
  {
   "cell_type": "code",
   "execution_count": 45,
   "source": [
    "# Note that mapFeature also adds a column of ones for us, so the intercept\r\n",
    "# term is handled\r\n",
    "X = utils.mapFeature(X[:, 0], X[:, 1])"
   ],
   "outputs": [],
   "metadata": {}
  },
  {
   "cell_type": "markdown",
   "source": [
    "<a id=\"section5\"></a>\n",
    "### 2.3 Cost function and gradient\n",
    "\n",
    "Now you will implement code to compute the cost function and gradient for regularized logistic regression. Complete the code for the function `costFunctionReg` below to return the cost and gradient.\n",
    "\n",
    "Recall that the regularized cost function in logistic regression is\n",
    "\n",
    "$$ J(\\theta) = \\frac{1}{m} \\sum_{i=1}^m \\left[ -y^{(i)}\\log \\left( h_\\theta \\left(x^{(i)} \\right) \\right) - \\left( 1 - y^{(i)} \\right) \\log \\left( 1 - h_\\theta \\left( x^{(i)} \\right) \\right) \\right] + \\frac{\\lambda}{2m} \\sum_{j=1}^n \\theta_j^2 $$\n",
    "\n",
    "Note that you should not regularize the parameters $\\theta_0$. The gradient of the cost function is a vector where the $j^{th}$ element is defined as follows:\n",
    "\n",
    "$$ \\frac{\\partial J(\\theta)}{\\partial \\theta_0} = \\frac{1}{m} \\sum_{i=1}^m \\left( h_\\theta \\left(x^{(i)}\\right) - y^{(i)} \\right) x_j^{(i)} \\qquad \\text{for } j =0 $$\n",
    "\n",
    "$$ \\frac{\\partial J(\\theta)}{\\partial \\theta_j} = \\left( \\frac{1}{m} \\sum_{i=1}^m \\left( h_\\theta \\left(x^{(i)}\\right) - y^{(i)} \\right) x_j^{(i)} \\right) + \\frac{\\lambda}{m}\\theta_j \\qquad \\text{for } j \\ge 1 $$\n",
    "<a id=\"costFunctionReg\"></a>"
   ],
   "metadata": {}
  },
  {
   "cell_type": "code",
   "execution_count": 46,
   "source": [
    "def costFunctionReg(theta, X, y, lambda_):\r\n",
    "    \"\"\"\r\n",
    "    Compute cost and gradient for logistic regression with regularization.\r\n",
    "    \r\n",
    "    Parameters\r\n",
    "    ----------\r\n",
    "    theta : array_like\r\n",
    "        Logistic regression parameters. A vector with shape (n, ). n is \r\n",
    "        the number of features including any intercept. If we have mapped\r\n",
    "        our initial features into polynomial features, then n is the total \r\n",
    "        number of polynomial features. \r\n",
    "    \r\n",
    "    X : array_like\r\n",
    "        The data set with shape (m x n). m is the number of examples, and\r\n",
    "        n is the number of features (after feature mapping).\r\n",
    "    \r\n",
    "    y : array_like\r\n",
    "        The data labels. A vector with shape (m, ).\r\n",
    "    \r\n",
    "    lambda_ : float\r\n",
    "        The regularization parameter. \r\n",
    "    \r\n",
    "    Returns\r\n",
    "    -------\r\n",
    "    J : float\r\n",
    "        The computed value for the regularized cost function. \r\n",
    "    \r\n",
    "    grad : array_like\r\n",
    "        A vector of shape (n, ) which is the gradient of the cost\r\n",
    "        function with respect to theta, at the current values of theta.\r\n",
    "    \r\n",
    "    Instructions\r\n",
    "    ------------\r\n",
    "    Compute the cost `J` of a particular choice of theta.\r\n",
    "    Compute the partial derivatives and set `grad` to the partial\r\n",
    "    derivatives of the cost w.r.t. each parameter in theta.\r\n",
    "    \"\"\"\r\n",
    "    # Initialize some useful values\r\n",
    "    m = y.size  # number of training examples\r\n",
    "\r\n",
    "    # You need to return the following variables correctly \r\n",
    "    J = 0\r\n",
    "    grad = np.zeros(theta.shape)\r\n",
    "\r\n",
    "    # ===================== YOUR CODE HERE ======================\r\n",
    "\r\n",
    "    J = (-1/m) * (  y @ np.log(sigmoid(X@theta) )  + (1 - y) @ np.log(1 - sigmoid(X@theta))    ) + (lambda_/(2*m)) * np.sum(theta[1:]**2)\r\n",
    "\r\n",
    "    grad[0] = (1/m) * (    (sigmoid(X@theta) - y) @ X      ) [0]\r\n",
    "    grad[1:] =( (1/m) * (    (sigmoid(X@theta) - y) @ X      ) + (lambda_/m) * theta )[1:]\r\n",
    "    \r\n",
    "    # =============================================================\r\n",
    "    return J, grad"
   ],
   "outputs": [],
   "metadata": {}
  },
  {
   "cell_type": "markdown",
   "source": [
    "Once you are done with the `costFunctionReg`, we call it below using the initial value of $\\theta$ (initialized to all zeros), and also another test case where $\\theta$ is all ones."
   ],
   "metadata": {}
  },
  {
   "cell_type": "code",
   "execution_count": 47,
   "source": [
    "# Initialize fitting parameters\r\n",
    "initial_theta = np.zeros(X.shape[1])\r\n",
    "\r\n",
    "# Set regularization parameter lambda to 1\r\n",
    "# DO NOT use `lambda` as a variable name in python\r\n",
    "# because it is a python keyword\r\n",
    "lambda_ = 1\r\n",
    "\r\n",
    "# Compute and display initial cost and gradient for regularized logistic\r\n",
    "# regression\r\n",
    "cost, grad = costFunctionReg(initial_theta, X, y, lambda_)\r\n",
    "\r\n",
    "print('Cost at initial theta (zeros): {:.3f}'.format(cost))\r\n",
    "print('Expected cost (approx)       : 0.693\\n')\r\n",
    "\r\n",
    "print('Gradient at initial theta (zeros) - first five values only:')\r\n",
    "print('\\t[{:.4f}, {:.4f}, {:.4f}, {:.4f}, {:.4f}]'.format(*grad[:5]))\r\n",
    "print('Expected gradients (approx) - first five values only:')\r\n",
    "print('\\t[0.0085, 0.0188, 0.0001, 0.0503, 0.0115]\\n')\r\n",
    "\r\n",
    "\r\n",
    "# Compute and display cost and gradient\r\n",
    "# with all-ones theta and lambda = 10\r\n",
    "test_theta = np.ones(X.shape[1])\r\n",
    "cost, grad = costFunctionReg(test_theta, X, y, 10)\r\n",
    "\r\n",
    "print('------------------------------\\n')\r\n",
    "print('Cost at test theta    : {:.2f}'.format(cost))\r\n",
    "print('Expected cost (approx): 3.16\\n')\r\n",
    "\r\n",
    "print('Gradient at test theta - first five values only:')\r\n",
    "print('\\t[{:.4f}, {:.4f}, {:.4f}, {:.4f}, {:.4f}]'.format(*grad[:5]))\r\n",
    "print('Expected gradients (approx) - first five values only:')\r\n",
    "print('\\t[0.3460, 0.1614, 0.1948, 0.2269, 0.0922]')"
   ],
   "outputs": [
    {
     "output_type": "stream",
     "name": "stdout",
     "text": [
      "Cost at initial theta (zeros): 0.693\n",
      "Expected cost (approx)       : 0.693\n",
      "\n",
      "Gradient at initial theta (zeros) - first five values only:\n",
      "\t[0.0085, 0.0188, 0.0001, 0.0503, 0.0115]\n",
      "Expected gradients (approx) - first five values only:\n",
      "\t[0.0085, 0.0188, 0.0001, 0.0503, 0.0115]\n",
      "\n",
      "------------------------------\n",
      "\n",
      "Cost at test theta    : 3.16\n",
      "Expected cost (approx): 3.16\n",
      "\n",
      "Gradient at test theta - first five values only:\n",
      "\t[0.3460, 0.1614, 0.1948, 0.2269, 0.0922]\n",
      "Expected gradients (approx) - first five values only:\n",
      "\t[0.3460, 0.1614, 0.1948, 0.2269, 0.0922]\n"
     ]
    }
   ],
   "metadata": {}
  },
  {
   "cell_type": "markdown",
   "source": [
    "*You should now submit your solutions.*"
   ],
   "metadata": {}
  },
  {
   "cell_type": "code",
   "execution_count": 48,
   "source": [
    "grader[5] = costFunctionReg\r\n",
    "grader[6] = costFunctionReg\r\n",
    "grader.grade()"
   ],
   "outputs": [
    {
     "output_type": "stream",
     "name": "stdout",
     "text": [
      "\n",
      "Submitting Solutions | Programming Exercise logistic-regression\n",
      "\n",
      "                                  Part Name |     Score | Feedback\n",
      "                                  --------- |     ----- | --------\n",
      "                           Sigmoid Function |   5 /   5 | Nice work!\n",
      "                   Logistic Regression Cost |  30 /  30 | Nice work!\n",
      "               Logistic Regression Gradient |  30 /  30 | Nice work!\n",
      "                                    Predict |   5 /   5 | Nice work!\n",
      "       Regularized Logistic Regression Cost |  15 /  15 | Nice work!\n",
      "   Regularized Logistic Regression Gradient |  15 /  15 | Nice work!\n",
      "                                  --------------------------------\n",
      "                                            | 100 / 100 |  \n",
      "\n"
     ]
    }
   ],
   "metadata": {}
  },
  {
   "cell_type": "markdown",
   "source": [
    "#### 2.3.1 Learning parameters using `scipy.optimize.minimize`\n",
    "\n",
    "Similar to the previous parts, you will use `optimize.minimize` to learn the optimal parameters $\\theta$. If you have completed the cost and gradient for regularized logistic regression (`costFunctionReg`) correctly, you should be able to step through the next part of to learn the parameters $\\theta$ using `optimize.minimize`."
   ],
   "metadata": {}
  },
  {
   "cell_type": "markdown",
   "source": [
    "### 2.4 Plotting the decision boundary\n",
    "\n",
    "To help you visualize the model learned by this classifier, we have provided the function `plotDecisionBoundary` which plots the (non-linear) decision boundary that separates the positive and negative examples. In `plotDecisionBoundary`, we plot the non-linear decision boundary by computing the classifier’s predictions on an evenly spaced grid and then and draw a contour plot where the predictions change from y = 0 to y = 1. "
   ],
   "metadata": {}
  },
  {
   "cell_type": "markdown",
   "source": [
    "### 2.5 Optional (ungraded) exercises\n",
    "\n",
    "In this part of the exercise, you will get to try out different regularization parameters for the dataset to understand how regularization prevents overfitting.\n",
    "\n",
    "Notice the changes in the decision boundary as you vary $\\lambda$. With a small\n",
    "$\\lambda$, you should find that the classifier gets almost every training example correct, but draws a very complicated boundary, thus overfitting the data. See the following figures for the decision boundaries you should get for different values of $\\lambda$. \n",
    "\n",
    "<table>\n",
    "    <tr>\n",
    "        <td style=\"text-align:center\">\n",
    "            No regularization (overfitting)<img src=\"Figures/decision_boundary3.png\">\n",
    "        </td>        \n",
    "        <td style=\"text-align:center\">\n",
    "            Decision boundary with regularization\n",
    "            <img src=\"Figures/decision_boundary2.png\">\n",
    "        </td>\n",
    "        <td style=\"text-align:center\">\n",
    "            Decision boundary with too much regularization\n",
    "            <img src=\"Figures/decision_boundary4.png\">\n",
    "        </td>        \n",
    "    <tr>\n",
    "</table>\n",
    "\n",
    "This is not a good decision boundary: for example, it predicts that a point at $x = (−0.25, 1.5)$ is accepted $(y = 1)$, which seems to be an incorrect decision given the training set.\n",
    "With a larger $\\lambda$, you should see a plot that shows an simpler decision boundary which still separates the positives and negatives fairly well. However, if $\\lambda$ is set to too high a value, you will not get a good fit and the decision boundary will not follow the data so well, thus underfitting the data."
   ],
   "metadata": {}
  },
  {
   "cell_type": "code",
   "execution_count": null,
   "source": [
    "# Initialize fitting parameters\r\n",
    "initial_theta = np.zeros(X.shape[1])\r\n",
    "\r\n",
    "# Set regularization parameter lambda to 1 (you should vary this)\r\n",
    "lambda_ = 1\r\n",
    "\r\n",
    "# set options for optimize.minimize\r\n",
    "options= {'maxiter': 100}\r\n",
    "\r\n",
    "res = optimize.minimize(costFunctionReg,\r\n",
    "                        initial_theta,\r\n",
    "                        (X, y, lambda_),\r\n",
    "                        jac=True,\r\n",
    "                        method='TNC',\r\n",
    "                        options=options)\r\n",
    "\r\n",
    "# the fun property of OptimizeResult object returns\r\n",
    "# the value of costFunction at optimized theta\r\n",
    "cost = res.fun\r\n",
    "\r\n",
    "# the optimized theta is in the x property of the result\r\n",
    "theta = res.x\r\n",
    "\r\n",
    "utils.plotDecisionBoundary(plotData, theta, X, y)\r\n",
    "pyplot.xlabel('Microchip Test 1')\r\n",
    "pyplot.ylabel('Microchip Test 2')\r\n",
    "pyplot.legend(['y = 1', 'y = 0'])\r\n",
    "pyplot.grid(False)\r\n",
    "pyplot.title('lambda = %0.2f' % lambda_)\r\n",
    "\r\n",
    "# Compute accuracy on our training set\r\n",
    "p = predict(theta, X)\r\n",
    "\r\n",
    "print('Train Accuracy: %.1f %%' % (np.mean(p == y) * 100))\r\n",
    "print('Expected accuracy (with lambda = 1): 83.1 % (approx)\\n')\r\n"
   ],
   "outputs": [],
   "metadata": {}
  },
  {
   "cell_type": "markdown",
   "source": [
    "*You do not need to submit any solutions for these optional (ungraded) exercises.*"
   ],
   "metadata": {}
  },
  {
   "cell_type": "markdown",
   "source": [],
   "metadata": {}
  }
 ],
 "metadata": {
  "kernelspec": {
   "name": "python3",
   "display_name": "Python 3.8.8 64-bit ('base': conda)"
  },
  "language_info": {
   "codemirror_mode": {
    "name": "ipython",
    "version": 3
   },
   "file_extension": ".py",
   "mimetype": "text/x-python",
   "name": "python",
   "nbconvert_exporter": "python",
   "pygments_lexer": "ipython3",
   "version": "3.8.8"
  },
  "interpreter": {
   "hash": "8232cadbade9e69e322da0486ba55ebc4e55da59c98557f6e47c4d3d01d19430"
  }
 },
 "nbformat": 4,
 "nbformat_minor": 2
}